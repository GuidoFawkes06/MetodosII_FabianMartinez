{
 "cells": [
  {
   "cell_type": "markdown",
   "metadata": {},
   "source": [
    "##### Algoritmo multipaso (Adams-Multon)"
   ]
  },
  {
   "cell_type": "code",
   "execution_count": 1,
   "metadata": {},
   "outputs": [],
   "source": [
    "import numpy as np\n",
    "import matplotlib.pyplot as plt\n",
    "from scipy.integrate import odeint"
   ]
  },
  {
   "cell_type": "code",
   "execution_count": 2,
   "metadata": {},
   "outputs": [],
   "source": [
    "def System(r,t,mu=1.5):\n",
    "    \n",
    "    x,vx = r\n",
    "    \n",
    "    dxdt = vx\n",
    "    dvxdt = mu*(1-x**2)*vx - x\n",
    "    \n",
    "    return [dxdt,dvxdt]"
   ]
  },
  {
   "cell_type": "code",
   "execution_count": 3,
   "metadata": {},
   "outputs": [],
   "source": [
    "t = np.linspace(0,20,10000)\n",
    "r0 = [0.5,0.]"
   ]
  },
  {
   "cell_type": "code",
   "execution_count": 4,
   "metadata": {},
   "outputs": [],
   "source": [
    "sol = odeint(System, r0, t, args=(1.3,))"
   ]
  },
  {
   "cell_type": "code",
   "execution_count": 6,
   "metadata": {},
   "outputs": [],
   "source": [
    "#plt.scatter(sol[:,0],sol[:,1],marker='.')"
   ]
  },
  {
   "cell_type": "code",
   "execution_count": null,
   "metadata": {},
   "outputs": [],
   "source": [
    "def IntegratorAdams(f,r0,t,mu):\n",
    "    \n",
    "    h = t[1] - t[0]\n",
    "    print(h)\n",
    "    \n",
    "    x = np.zeros_like(t)\n",
    "    vx = np.zeros_like(t)\n",
    "    \n",
    "    x[0] = r0[0]\n",
    "    vx[0] = r0[1]\n",
    "    \n",
    "    K11 = np.zeros(2)\n",
    "    K12 = np.zeros(2)\n",
    "    \n",
    "    present = np.array([x[0],vx[0]])\n",
    "    K11 = f(present,t[0],mu)\n",
    "    \n",
    "    # Euler\n",
    "    x[1]  = x[0]  + h*K11[0]\n",
    "    vx[1] = vx[0] + h*K11[1]\n",
    "    \n",
    "    xc = x.copy()\n",
    "    vxc = vx.copy()\n",
    "    #Adams  Bashforth de orden 2\n",
    "    for i in range(2,len(t)):\n",
    "        \n",
    "        present = np.array([x[i-1],vx[i-1]])\n",
    "        past = np.array([x[i-2],vx[i-2]])\n",
    "        \n",
    "        K11 = f(present,t[i-1],mu)\n",
    "        K12 = f(past,t[i-2],mu)\n",
    "        #Bashford orden 2\n",
    "        x[i]  = x[i-1]  + 0.5*h*(3*K11[0]-K12[0])\n",
    "        vx[i] = vx[i-1] + 0.5*h*(3*K11[1]-K12[1])\n",
    "        \n",
    "        #Bashford orden 3\n",
    "        x[i]  = x[i-1]  + (1/12)*h*(23*K11[0]-K12[0])\n",
    "        vx[i] = vx[i-1] + (1/12)*h*(23*K11[1]-K12[1])\n",
    "\n",
    "\n",
    "        xc[i] = x[i]\n",
    "        vxc[i] = vx[i]\n",
    "        \n",
    "        # Futuro\n",
    "        futuro = np.array([x[i],vx[i]])\n",
    "        K13 = f(futuro,t[i],mu)\n",
    "        \n",
    "        xc[i]  = xc[i-1]  + h*(5*K13[0]+8*K11[0]-K12[0])/24\n",
    "        vxc[i] = vxc[i-1] + h*(5*K13[1]+8*K11[1]-K12[1])/24\n",
    "\n",
    "    \n",
    "    return x,vx,xc,vxc"
   ]
  },
  {
   "cell_type": "code",
   "execution_count": null,
   "metadata": {},
   "outputs": [],
   "source": [
    "sol2 = IntegratorAdams(System,r0,t,1.3)"
   ]
  },
  {
   "cell_type": "code",
   "execution_count": null,
   "metadata": {},
   "outputs": [],
   "source": [
    "#plt.scatter(sol2[0],sol2[1],color='r')\n",
    "plt.scatter(sol2[2],sol2[3],marker='.',color='k')\n",
    "plt.scatter(sol[:,0],sol[:,1],marker='.')"
   ]
  },
  {
   "cell_type": "code",
   "execution_count": null,
   "metadata": {},
   "outputs": [],
   "source": [
    "plt.scatter(t,sol[:,0])\n",
    "plt.scatter(t,sol2[2])"
   ]
  },
  {
   "cell_type": "code",
   "execution_count": null,
   "metadata": {},
   "outputs": [],
   "source": [
    "plt.plot(np.abs(sol2[2]-sol[:,0]))"
   ]
  }
 ],
 "metadata": {
  "kernelspec": {
   "display_name": "base",
   "language": "python",
   "name": "python3"
  },
  "language_info": {
   "codemirror_mode": {
    "name": "ipython",
    "version": 3
   },
   "file_extension": ".py",
   "mimetype": "text/x-python",
   "name": "python",
   "nbconvert_exporter": "python",
   "pygments_lexer": "ipython3",
   "version": "3.8.8"
  }
 },
 "nbformat": 4,
 "nbformat_minor": 2
}
