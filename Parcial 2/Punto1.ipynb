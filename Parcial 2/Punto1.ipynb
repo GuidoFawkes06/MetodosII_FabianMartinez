{
 "cells": [
  {
   "cell_type": "markdown",
   "metadata": {},
   "source": [
    "##### Algoritmo multipaso \n",
    "Usando el algoritmo multipaso de orden O(h4) integre la ecuación diferencial:"
   ]
  },
  {
   "cell_type": "code",
   "execution_count": 1,
   "metadata": {},
   "outputs": [],
   "source": [
    "import numpy as np\n",
    "import matplotlib.pyplot as plt\n",
    "from scipy.integrate import odeint"
   ]
  },
  {
   "cell_type": "code",
   "execution_count": 37,
   "metadata": {},
   "outputs": [],
   "source": [
    "def System(y,x):\n",
    "    return x + 2*y "
   ]
  },
  {
   "cell_type": "code",
   "execution_count": 45,
   "metadata": {},
   "outputs": [],
   "source": [
    "def Solution(x):\n",
    "    return -x/2 -(1-np.exp(2*x))/4"
   ]
  },
  {
   "cell_type": "code",
   "execution_count": 46,
   "metadata": {},
   "outputs": [],
   "source": [
    "t = np.linspace(0,4,100)\n",
    "h = t[1] - t[0]\n",
    "r0 = [0,0]"
   ]
  },
  {
   "cell_type": "code",
   "execution_count": 50,
   "metadata": {},
   "outputs": [],
   "source": []
  },
  {
   "cell_type": "code",
   "execution_count": 52,
   "metadata": {},
   "outputs": [
    {
     "data": {
      "text/plain": [
       "[<matplotlib.lines.Line2D at 0x1ddc72ab790>]"
      ]
     },
     "execution_count": 52,
     "metadata": {},
     "output_type": "execute_result"
    },
    {
     "data": {
      "image/png": "[encoded data removed]",
      "text/plain": [
       "<Figure size 640x480 with 1 Axes>"
      ]
     },
     "metadata": {},
     "output_type": "display_data"
    }
   ],
   "source": [
    "#sol2 = odeint(System,r0,t)\n",
    "\n",
    "plt.plot(t,Solution(t),marker='.',color='k')\n"
   ]
  },
  {
   "cell_type": "code",
   "execution_count": 53,
   "metadata": {},
   "outputs": [
    {
     "name": "stderr",
     "output_type": "stream",
     "text": [
      "<>:78: SyntaxWarning: 'int' object is not subscriptable; perhaps you missed a comma?\n",
      "<>:78: SyntaxWarning: 'int' object is not subscriptable; perhaps you missed a comma?\n",
      "<>:79: SyntaxWarning: 'int' object is not subscriptable; perhaps you missed a comma?\n",
      "<>:79: SyntaxWarning: 'int' object is not subscriptable; perhaps you missed a comma?\n",
      "<>:78: SyntaxWarning: 'int' object is not subscriptable; perhaps you missed a comma?\n",
      "<>:78: SyntaxWarning: 'int' object is not subscriptable; perhaps you missed a comma?\n",
      "<>:79: SyntaxWarning: 'int' object is not subscriptable; perhaps you missed a comma?\n",
      "<>:79: SyntaxWarning: 'int' object is not subscriptable; perhaps you missed a comma?\n",
      "C:\\Users\\USUARIO\\AppData\\Local\\Temp\\ipykernel_19376\\301667898.py:78: SyntaxWarning: 'int' object is not subscriptable; perhaps you missed a comma?\n",
      "  xc[i] = xc[i-1] + h*(475*K16[0] + 1427*K11[0] - 798*K12[0] + 482*K13[0] - 173[0]*K14 +27[0]*K15)/1440\n",
      "C:\\Users\\USUARIO\\AppData\\Local\\Temp\\ipykernel_19376\\301667898.py:78: SyntaxWarning: 'int' object is not subscriptable; perhaps you missed a comma?\n",
      "  xc[i] = xc[i-1] + h*(475*K16[0] + 1427*K11[0] - 798*K12[0] + 482*K13[0] - 173[0]*K14 +27[0]*K15)/1440\n",
      "C:\\Users\\USUARIO\\AppData\\Local\\Temp\\ipykernel_19376\\301667898.py:79: SyntaxWarning: 'int' object is not subscriptable; perhaps you missed a comma?\n",
      "  yc[i] = yc[i-1] + h*(475*K16[1] + 1427*K11[1] - 798*K12[1] + 482*K13[0] - 173[0]*K14 +27[0]*K15)/1440\n",
      "C:\\Users\\USUARIO\\AppData\\Local\\Temp\\ipykernel_19376\\301667898.py:79: SyntaxWarning: 'int' object is not subscriptable; perhaps you missed a comma?\n",
      "  yc[i] = yc[i-1] + h*(475*K16[1] + 1427*K11[1] - 798*K12[1] + 482*K13[0] - 173[0]*K14 +27[0]*K15)/1440\n"
     ]
    }
   ],
   "source": [
    "def IntegratorAdams(f,r0,t):\n",
    "    \n",
    "    h = t[1] - t[0]\n",
    "    print(h)\n",
    "    \n",
    "    x = np.zeros_like(t)\n",
    "    y = np.zeros_like(t)\n",
    "    \n",
    "    x[0] = r0[0]\n",
    "    y[0] = r0[1]\n",
    "    \n",
    "    K11 = np.zeros(2)\n",
    "    K12 = np.zeros(2)\n",
    "    K13 = np.zeros(2)\n",
    "    K14 = np.zeros(2)\n",
    "    \n",
    "    present = np.array([x[0],y[0]])\n",
    "    K11 = f(present,t[0])\n",
    "    \n",
    "    K12 = f(np.array([y[i-1]])+0.5*h*K11,t[i-1])\n",
    "    K13 = f(np.array([y[i-1]])+0.5*h*K12,t[i-1])\n",
    "    K14 = f(np.array([y[i-1]])+h*K13,t[i-1])\n",
    "    y[i] = y[i-1] + (h/6)*(K11[0]+2*K12[0]+2*K13[0]+K14[0])\n",
    "    \n",
    "    # Euler\n",
    "    x[1] = x[0] + h*K11[0]\n",
    "    y[1] = y[0] + h*K11[1]\n",
    "    \n",
    "    xc = x.copy()\n",
    "    yc = y.copy()\n",
    "    #Adams  Bashforth de orden 2\n",
    "    for i in range(2,len(t)):\n",
    "        \n",
    "        present = np.array([x[i-1],y[i-1]])\n",
    "        past = np.array([x[i-2],y[i-2]])\n",
    "        past2 = np.array([x[i-3], y[i-3]])\n",
    "        past3 = np.array ([x[i-4], y[i-4]])\n",
    "        past4 = np.array ([x[i-5], y[i-5]])\n",
    "        \n",
    "        K11 = f(present,t[i-1])\n",
    "        K12 = f(past,t[i-2])\n",
    "        K13 = f(past2,t[i-3])\n",
    "        K14 = f(past3,t[i-4])\n",
    "        K15 = f(past4, t[i-5])\n",
    "        #Bashford orden 2\n",
    "        x[i] = y[i-1] + h*(1901*K11[0]-2774*K12[0]+2616*K13[0]-1274*K14[0]+251*K15[0])/720\n",
    "        y[i] = y[i-1] + h*(1901*K11[1]-2774*K12[0]+2616*K13[1]-1274*K14[0]+251*K15[1])/720\n",
    "        \n",
    "\n",
    "        # Futuro\n",
    "        futuro = np.array([x[i],y[i]])\n",
    "        K16 = f(futuro,t[i])\n",
    "        \n",
    "        # #Bashford orden 3\n",
    "        # x[i] = K13[0] + (1/12)*h*(23*K13[0] - 16*K11[0] + 5*K12[0])\n",
    "        # y[i] = K13[1] + (1/12)*h*(23*K13[1] - 16*K11[1] + 5*K12[1])\n",
    "\n",
    "        # futuro2 = np.array([x[i]], y[i])\n",
    "        # K14 = f(futuro2,t[i+1])\n",
    "\n",
    "        # #Bashford orden 4\n",
    "        # x[i] = K14[0] + h*(55*K14[0] - 59 *K13[0] + 37*K11[0] - 9*K12[0])/24\n",
    "        # y[i] = K14[1] + h*(55*K14[1] - 59 *K13[1] + 37*K11[1] - 9*K12[1])/24\n",
    "\n",
    "        # futuro3 = np.array([x[i]], y[i])\n",
    "        # K15 = f(futuro3,t[i+2])\n",
    "\n",
    "        # #Basford orden 5\n",
    "        # x[i] = K15[0] + h*(1901*K15[0] - 2774*K14[0] + 2616*K13[0] -1274*K12[0] + 251*K11[0])/720\n",
    "        # y[i] = K15[1] + h*(1901*K15[1] - 2774*K14[1] + 2616*K13[1] -1274*K12[1] + 251*K11[1])/720\n",
    "        \n",
    "        # futuro4 = np.array([x[i]], y[i])\n",
    "        # K16 = f(futuro4,t[i+3])\n",
    "\n",
    "        xc[i] = x[i]\n",
    "        yc[i] = y[i]\n",
    "\n",
    "        xc[i] = xc[i-1] + h*(475*K16[0] + 1427*K11[0] - 798*K12[0] + 482*K13[0] - 173[0]*K14 +27[0]*K15)/1440\n",
    "        yc[i] = yc[i-1] + h*(475*K16[1] + 1427*K11[1] - 798*K12[1] + 482*K13[0] - 173[0]*K14 +27[0]*K15)/1440\n",
    "\n",
    "        \n",
    "    return x,y,xc,yc"
   ]
  },
  {
   "cell_type": "code",
   "execution_count": null,
   "metadata": {},
   "outputs": [],
   "source": []
  },
  {
   "cell_type": "code",
   "execution_count": 54,
   "metadata": {},
   "outputs": [
    {
     "name": "stdout",
     "output_type": "stream",
     "text": [
      "0.04040404040404041\n"
     ]
    },
    {
     "name": "stderr",
     "output_type": "stream",
     "text": [
      "C:\\Users\\USUARIO\\AppData\\Local\\Temp\\ipykernel_19376\\301667898.py:78: SyntaxWarning: 'int' object is not subscriptable; perhaps you missed a comma?\n",
      "  xc[i] = xc[i-1] + h*(475*K16[0] + 1427*K11[0] - 798*K12[0] + 482*K13[0] - 173[0]*K14 +27[0]*K15)/1440\n",
      "C:\\Users\\USUARIO\\AppData\\Local\\Temp\\ipykernel_19376\\301667898.py:78: SyntaxWarning: 'int' object is not subscriptable; perhaps you missed a comma?\n",
      "  xc[i] = xc[i-1] + h*(475*K16[0] + 1427*K11[0] - 798*K12[0] + 482*K13[0] - 173[0]*K14 +27[0]*K15)/1440\n",
      "C:\\Users\\USUARIO\\AppData\\Local\\Temp\\ipykernel_19376\\301667898.py:79: SyntaxWarning: 'int' object is not subscriptable; perhaps you missed a comma?\n",
      "  yc[i] = yc[i-1] + h*(475*K16[1] + 1427*K11[1] - 798*K12[1] + 482*K13[0] - 173[0]*K14 +27[0]*K15)/1440\n",
      "C:\\Users\\USUARIO\\AppData\\Local\\Temp\\ipykernel_19376\\301667898.py:79: SyntaxWarning: 'int' object is not subscriptable; perhaps you missed a comma?\n",
      "  yc[i] = yc[i-1] + h*(475*K16[1] + 1427*K11[1] - 798*K12[1] + 482*K13[0] - 173[0]*K14 +27[0]*K15)/1440\n",
      "C:\\Users\\USUARIO\\AppData\\Local\\Temp\\ipykernel_19376\\301667898.py:78: SyntaxWarning: 'int' object is not subscriptable; perhaps you missed a comma?\n",
      "  xc[i] = xc[i-1] + h*(475*K16[0] + 1427*K11[0] - 798*K12[0] + 482*K13[0] - 173[0]*K14 +27[0]*K15)/1440\n",
      "C:\\Users\\USUARIO\\AppData\\Local\\Temp\\ipykernel_19376\\301667898.py:78: SyntaxWarning: 'int' object is not subscriptable; perhaps you missed a comma?\n",
      "  xc[i] = xc[i-1] + h*(475*K16[0] + 1427*K11[0] - 798*K12[0] + 482*K13[0] - 173[0]*K14 +27[0]*K15)/1440\n",
      "C:\\Users\\USUARIO\\AppData\\Local\\Temp\\ipykernel_19376\\301667898.py:79: SyntaxWarning: 'int' object is not subscriptable; perhaps you missed a comma?\n",
      "  yc[i] = yc[i-1] + h*(475*K16[1] + 1427*K11[1] - 798*K12[1] + 482*K13[0] - 173[0]*K14 +27[0]*K15)/1440\n",
      "C:\\Users\\USUARIO\\AppData\\Local\\Temp\\ipykernel_19376\\301667898.py:79: SyntaxWarning: 'int' object is not subscriptable; perhaps you missed a comma?\n",
      "  yc[i] = yc[i-1] + h*(475*K16[1] + 1427*K11[1] - 798*K12[1] + 482*K13[0] - 173[0]*K14 +27[0]*K15)/1440\n",
      "C:\\Users\\USUARIO\\AppData\\Local\\Temp\\ipykernel_19376\\301667898.py:78: SyntaxWarning: 'int' object is not subscriptable; perhaps you missed a comma?\n",
      "  xc[i] = xc[i-1] + h*(475*K16[0] + 1427*K11[0] - 798*K12[0] + 482*K13[0] - 173[0]*K14 +27[0]*K15)/1440\n",
      "C:\\Users\\USUARIO\\AppData\\Local\\Temp\\ipykernel_19376\\301667898.py:78: SyntaxWarning: 'int' object is not subscriptable; perhaps you missed a comma?\n",
      "  xc[i] = xc[i-1] + h*(475*K16[0] + 1427*K11[0] - 798*K12[0] + 482*K13[0] - 173[0]*K14 +27[0]*K15)/1440\n",
      "C:\\Users\\USUARIO\\AppData\\Local\\Temp\\ipykernel_19376\\301667898.py:79: SyntaxWarning: 'int' object is not subscriptable; perhaps you missed a comma?\n",
      "  yc[i] = yc[i-1] + h*(475*K16[1] + 1427*K11[1] - 798*K12[1] + 482*K13[0] - 173[0]*K14 +27[0]*K15)/1440\n",
      "C:\\Users\\USUARIO\\AppData\\Local\\Temp\\ipykernel_19376\\301667898.py:79: SyntaxWarning: 'int' object is not subscriptable; perhaps you missed a comma?\n",
      "  yc[i] = yc[i-1] + h*(475*K16[1] + 1427*K11[1] - 798*K12[1] + 482*K13[0] - 173[0]*K14 +27[0]*K15)/1440\n"
     ]
    },
    {
     "ename": "UnboundLocalError",
     "evalue": "local variable 'i' referenced before assignment",
     "output_type": "error",
     "traceback": [
      "\u001b[1;31m---------------------------------------------------------------------------\u001b[0m",
      "\u001b[1;31mUnboundLocalError\u001b[0m                         Traceback (most recent call last)",
      "Cell \u001b[1;32mIn[54], line 1\u001b[0m\n\u001b[1;32m----> 1\u001b[0m sol \u001b[38;5;241m=\u001b[39m \u001b[43mIntegratorAdams\u001b[49m\u001b[43m(\u001b[49m\u001b[43mSystem\u001b[49m\u001b[43m,\u001b[49m\u001b[43mr0\u001b[49m\u001b[43m,\u001b[49m\u001b[43mt\u001b[49m\u001b[43m)\u001b[49m\n\u001b[0;32m      3\u001b[0m plt\u001b[38;5;241m.\u001b[39mplot(sol[\u001b[38;5;241m0\u001b[39m],sol[\u001b[38;5;241m1\u001b[39m])\n",
      "Cell \u001b[1;32mIn[53], line 20\u001b[0m, in \u001b[0;36mIntegratorAdams\u001b[1;34m(f, r0, t)\u001b[0m\n\u001b[0;32m     17\u001b[0m present \u001b[38;5;241m=\u001b[39m np\u001b[38;5;241m.\u001b[39marray([x[\u001b[38;5;241m0\u001b[39m],y[\u001b[38;5;241m0\u001b[39m]])\n\u001b[0;32m     18\u001b[0m K11 \u001b[38;5;241m=\u001b[39m f(present,t[\u001b[38;5;241m0\u001b[39m])\n\u001b[1;32m---> 20\u001b[0m K12 \u001b[38;5;241m=\u001b[39m f(np\u001b[38;5;241m.\u001b[39marray([y[\u001b[43mi\u001b[49m\u001b[38;5;241m-\u001b[39m\u001b[38;5;241m1\u001b[39m]])\u001b[38;5;241m+\u001b[39m\u001b[38;5;241m0.5\u001b[39m\u001b[38;5;241m*\u001b[39mh\u001b[38;5;241m*\u001b[39mK11,t[i\u001b[38;5;241m-\u001b[39m\u001b[38;5;241m1\u001b[39m])\n\u001b[0;32m     21\u001b[0m K13 \u001b[38;5;241m=\u001b[39m f(np\u001b[38;5;241m.\u001b[39marray([y[i\u001b[38;5;241m-\u001b[39m\u001b[38;5;241m1\u001b[39m]])\u001b[38;5;241m+\u001b[39m\u001b[38;5;241m0.5\u001b[39m\u001b[38;5;241m*\u001b[39mh\u001b[38;5;241m*\u001b[39mK12,t[i\u001b[38;5;241m-\u001b[39m\u001b[38;5;241m1\u001b[39m])\n\u001b[0;32m     22\u001b[0m K14 \u001b[38;5;241m=\u001b[39m f(np\u001b[38;5;241m.\u001b[39marray([y[i\u001b[38;5;241m-\u001b[39m\u001b[38;5;241m1\u001b[39m]])\u001b[38;5;241m+\u001b[39mh\u001b[38;5;241m*\u001b[39mK13,t[i\u001b[38;5;241m-\u001b[39m\u001b[38;5;241m1\u001b[39m])\n",
      "\u001b[1;31mUnboundLocalError\u001b[0m: local variable 'i' referenced before assignment"
     ]
    }
   ],
   "source": [
    "sol = IntegratorAdams(System,r0,t)\n",
    "\n",
    "plt.plot(sol[0],sol[1])\n",
    "\n",
    "# plt.scatter(sol[:,0],sol[:,1],marker='.')"
   ]
  },
  {
   "cell_type": "code",
   "execution_count": null,
   "metadata": {},
   "outputs": [],
   "source": [
    "plt.scatter(t,sol[:,0])\n",
    "plt.scatter(t,sol2[2])"
   ]
  },
  {
   "cell_type": "code",
   "execution_count": null,
   "metadata": {},
   "outputs": [],
   "source": [
    "plt.plot(np.abs(sol2[2]-sol[:,0]))"
   ]
  }
 ],
 "metadata": {
  "kernelspec": {
   "display_name": "base",
   "language": "python",
   "name": "python3"
  },
  "language_info": {
   "codemirror_mode": {
    "name": "ipython",
    "version": 3
   },
   "file_extension": ".py",
   "mimetype": "text/x-python",
   "name": "python",
   "nbconvert_exporter": "python",
   "pygments_lexer": "ipython3",
   "version": "3.8.8"
  }
 },
 "nbformat": 4,
 "nbformat_minor": 2
}
