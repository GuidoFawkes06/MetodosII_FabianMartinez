{
 "cells": [
  {
   "cell_type": "markdown",
   "metadata": {},
   "source": [
    "#### Muestre que los siguientes operadores diferenciales:\n",
    "$${f}'(x) = \\frac{-f(x+2h)+4f(x+h)-3f(x)}{2h}$$\n",
    "$${f}''(x) = \\frac{f(x+h)-2f(x)+f(x-h)}{h^2}$$\n",
    "#### son consistentes. Use la funcion de prueba  $f(x)=x^2$ y $f(x)=\\sin x$."
   ]
  },
  {
   "cell_type": "markdown",
   "metadata": {},
   "source": [
    "##### Para $f(x)=x^2$\n",
    "$${f}'(x) = \\lim_{h \\rightarrow 0} \\frac{-(x+2h)^2 + 4(x+h)^2 - 3x^2}{2h}$$\n",
    "$${f}'(x) = \\lim_{h \\rightarrow 0} \\frac{-(x^2+4xh+4h^2) + 4(x^2+2xh+h^2) - 3x^2}{2h} $$\n",
    "$${f}'(x) = \\lim_{h \\rightarrow 0} \\frac{-x^2-4xh-4h^2 + 4x^2+8xh+4h^2-3x^2}{2h} $$\n",
    "$${f}'(x)= \\lim_{h \\rightarrow 0} \\frac{4xh}{2h}=2x$$"
   ]
  },
  {
   "cell_type": "markdown",
   "metadata": {},
   "source": [
    "$${f}''(x) = \\lim_{h \\rightarrow 0} \\frac{(x+h)^2 - 2(x)^2 + (x-h)^2}{h^2}$$\n",
    "$${f}''(x) = \\lim_{h \\rightarrow 0} \\frac{(x^2+2xh+h^2) - 2x^2 + (x^2-2xh+h^2)}{h^2} $$\n",
    "$${f}''(x) = \\lim_{h \\rightarrow 0} \\frac{x^2+2xh+h^2 - 2x^2 + x^2-2xh+h^2}{h^2} $$\n",
    "$${f}''(x)= \\lim_{h \\rightarrow 0} \\frac{2h^2}{h^2}=2$$"
   ]
  },
  {
   "cell_type": "markdown",
   "metadata": {},
   "source": [
    "##### Para $f(x)=\\sin x$\n",
    "$${f}'(x) = \\lim_{h \\rightarrow 0} \\frac{-\\sin(x+2h)+4\\sin(x+h)-2\\sin x}{2h}$$\n",
    "$${f}'(x) = \\lim_{h \\rightarrow 0} \\frac{-\\sin(x) \\cos(2h) - \\sin(2h) \\cos(x) + 4\\sin(x) \\cos(h) + 4\\sin(h)\\cos(x) - 3\\sin x}{2h} $$\n",
    "$${f}'(x) = -\\sin x \\lim_{h \\rightarrow 0} \\frac{\\cos 2h}{2h} - \\cos x \\lim_{h \\rightarrow 0} \\frac{\\sin 2h}{2h} + 2 \\sin x \\lim_{h \\rightarrow 0} \\frac{\\cos 2h}{h} + 2 \\cos x \\lim_{h \\rightarrow 0} \\frac{\\sin h}{h} - 2 \\sin x \\lim_{h \\rightarrow 0} \\frac{1}{2h}$$\n",
    "$${f}'(x)= 0 - \\cos x +0 + 2 \\cos x - 0 = \\cos x$$"
   ]
  },
  {
   "cell_type": "markdown",
   "metadata": {},
   "source": [
    "$${f}''(x) = \\lim_{h \\rightarrow 0} \\frac{\\sin(x+h) -2\\sin x + \\sin(x-h)}{h^2}$$\n",
    "$${f}''(x) = \\lim_{h \\rightarrow 0} \\frac{\\sin(x) \\cos (h) + \\sin (h) \\cos x -2\\sin x + \\sin(x) \\cos h - \\sin h \\cos x}{h^2} $$\n",
    "$${f}''(x) = \\lim_{h \\rightarrow 0} \\frac{2 \\sin x \\cos h - 2 \\sin x}{h^2} $$\n",
    "$${f}''(x)= 2 \\sin x \\lim_{h \\rightarrow 0} \\frac{\\cos h}{h^2} - 2\\lim_{h \\rightarrow 0} \\frac {\\sin x}{h^2}$$\n",
    "$${f}''(x)= 2 \\sin x \\left (\\frac{-1}{2} \\right )-0 = -\\sin x$$"
   ]
  }
 ],
 "metadata": {
  "language_info": {
   "name": "python"
  }
 },
 "nbformat": 4,
 "nbformat_minor": 2
}
