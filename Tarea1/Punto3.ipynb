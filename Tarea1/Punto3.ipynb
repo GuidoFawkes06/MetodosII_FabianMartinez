{
 "cells": [
  {
   "cell_type": "markdown",
   "metadata": {},
   "source": [
    "#### Escriba la velocidad de la luz $c = 3 × 10^8 m/s$ en unidades de au/año."
   ]
  },
  {
   "cell_type": "markdown",
   "metadata": {},
   "source": [
    "$$c=3 \\times 10^8 \\frac{m}{s} \\left (\\frac {1 \\space au}{1.496 \\times 10^{11}m} \\right ) \\left ( \\frac {86400 \\space s}{1 \\space dia} \\right )\\left ( \\frac {365 \\space dias}{1 \\space año} \\right ) = 63240,64 \\space \\frac{au}{año}$$\n",
    "$$c=6,324 \\times 10^4 \\space \\frac{au}{año}"
   ]
  }
 ],
 "metadata": {
  "language_info": {
   "name": "python"
  }
 },
 "nbformat": 4,
 "nbformat_minor": 2
}
