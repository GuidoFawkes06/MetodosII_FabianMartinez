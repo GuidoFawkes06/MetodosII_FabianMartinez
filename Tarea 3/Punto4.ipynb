{
 "cells": [
  {
   "cell_type": "markdown",
   "metadata": {},
   "source": [
    "Viaje a la luna: La NASA requiere dos estudiantes del curso de métodos computacionales para realizar una pasant´ıa en el departamento de objetos cercanos a la Tierra. Para elegir a los estudiantes se solicita una simulaci´on sencilla del problema de tres cuerpos de una nave que pueda fotografiar el lado oculto de la Luna. Yo sugerí a mis estudiantes del curso de Métodos Computacionales II de la Universidad de los Andes como posibles candidatos; en quienes puedo depositar mi confianza."
   ]
  },
  {
   "cell_type": "markdown",
   "metadata": {},
   "source": [
    "g) Resolver el sistema de ecuaciones usando el algoritmo Runge-Kutta 4"
   ]
  },
  {
   "cell_type": "code",
   "execution_count": 1,
   "metadata": {},
   "outputs": [],
   "source": [
    "import numpy as np\n",
    "import matplotlib.pyplot as plt\n",
    "from scipy import integrate\n",
    "import matplotlib.animation as anim\n",
    "from tqdm import tqdm"
   ]
  },
  {
   "cell_type": "code",
   "execution_count": 2,
   "metadata": {},
   "outputs": [],
   "source": [
    "G = 6.67e-11\n",
    "mt = 5.98e24\n",
    "ml = 0.073e24\n",
    "rl = 1.74e6\n",
    "rt= 6.38e6\n",
    "d = 3.84e8\n",
    "w = 2.66e-6"
   ]
  },
  {
   "cell_type": "code",
   "execution_count": 12,
   "metadata": {},
   "outputs": [],
   "source": [
    "def System(para,t):\n",
    "    r, phi, pr, pphi = para\n",
    "\n",
    "    delta = G*mt/d**3\n",
    "    mu = ml/mt\n",
    "    rpri = np.sqrt(1 + r**2 - 2*r*np.cos(phi - w*t))\n",
    "\n",
    "    drdt = pr\n",
    "    dphidt = pphi/(r**2)\n",
    "    dprdt = (pphi**2)/(r**3) - delta*(1/(r**2) + ((mu)/(rpri**3)) * (r - np.cos(phi - w*t)))\n",
    "    dpphidt = - ((delta*mu*r)/(rpri**3)) * np.sin(phi -w*t)\n",
    "\n",
    "    return np.array([drdt, dphidt, dprdt, dpphidt])"
   ]
  },
  {
   "cell_type": "code",
   "execution_count": 13,
   "metadata": {},
   "outputs": [],
   "source": [
    "def IntegratorRungeKutta4(f,para, t):\n",
    "    r0, phi0, pr0, pphi0 = para\n",
    "    \n",
    "    h = t[1] - t[0]\n",
    "    \n",
    "    r = np.zeros_like(t)\n",
    "    phi = np.zeros_like(t)\n",
    "    \n",
    "    pr = np.zeros_like(t)\n",
    "    pphi = np.zeros_like(t)\n",
    "    \n",
    "    r[0] = r0\n",
    "    phi[0] = phi0\n",
    "    pr[0] = pr0\n",
    "    pphi[0] = pphi0\n",
    "\n",
    "    for i in tqdm(range(1,len(t))):\n",
    "        \n",
    "        R = np.array([r[i-1],phi[i-1],pr[i-1],pphi[i-1]])\n",
    "        \n",
    "        K1 = f(R,t[i-1])\n",
    "        \n",
    "        R = np.array([r[i-1]+0.5*h*K1[0],phi[i-1]+0.5*h*K1[1],\n",
    "                      pr[i-1]+0.5*h*K1[2],pphi[i-1]+0.5*h*K1[3]])\n",
    "        \n",
    "        K2 = f(R,t[i-1]+0.5*h)\n",
    "        \n",
    "        R = np.array([r[i-1]+0.5*h*K2[0],phi[i-1]+0.5*h*K2[1],\n",
    "                      pr[i-1]+0.5*h*K2[2],pphi[i-1]+0.5*h*K2[3]])\n",
    "        \n",
    "        K3 = f(R,t[i-1]+0.5*h)\n",
    "        \n",
    "        R = np.array([r[i-1]+h*K3[0],phi[i-1]+h*K3[1],\n",
    "                      pr[i-1]+h*K3[2],pphi[i-1]+h*K3[3]])\n",
    "        \n",
    "        K4 = f(R,t[i-1]+h)\n",
    "        \n",
    "        r[i] = r[i-1] + (1/6)*h*(K1[0]+2*K2[0]+2*K3[0]+K4[0])\n",
    "        phi[i] = phi[i-1] + (1/6)*h*(K1[1]+2*K2[1]+2*K3[1]+K4[1])\n",
    "        \n",
    "        pr[i] = pr[i-1] + (1/6)*h*(K1[2]+2*K2[2]+2*K3[2]+K4[2])\n",
    "        pphi[i] = pphi[i-1] + (1/6)*h*(K1[3]+2*K2[3]+2*K3[3]+K4[3])\n",
    "        \n",
    "    return r,phi,pr,pphi"
   ]
  },
  {
   "cell_type": "code",
   "execution_count": 14,
   "metadata": {},
   "outputs": [],
   "source": [
    "r0 = rt/d\n",
    "v0 = 11110/d\n",
    "\n",
    "phi0 = np.pi/4\n",
    "theta0 = np.pi/4\n",
    "\n",
    "pr0 = v0*np.cos(theta0 - phi0)\n",
    "pphi0 = r0*v0*np.sin(theta0-phi0)"
   ]
  },
  {
   "cell_type": "code",
   "execution_count": 22,
   "metadata": {},
   "outputs": [],
   "source": [
    "para = [r0, phi0, pr0, pphi0]\n",
    "t = np.arange(0,1e6,1)\n"
   ]
  },
  {
   "cell_type": "code",
   "execution_count": 23,
   "metadata": {},
   "outputs": [
    {
     "name": "stderr",
     "output_type": "stream",
     "text": [
      "  0%|          | 2066/999999 [00:00<02:34, 6464.75it/s]"
     ]
    },
    {
     "name": "stderr",
     "output_type": "stream",
     "text": [
      "100%|██████████| 999999/999999 [03:37<00:00, 4596.06it/s]\n"
     ]
    }
   ],
   "source": [
    "Sol = IntegratorRungeKutta4(System,para,t)"
   ]
  },
  {
   "cell_type": "code",
   "execution_count": 24,
   "metadata": {},
   "outputs": [],
   "source": [
    "navex = d*Sol[0]*np.cos(Sol[1])\n",
    "navey = d*Sol[0]*np.sin(Sol[1])\n",
    "\n",
    "lunax = d*np.cos(w*t)\n",
    "lunay = d*np.sin(w*t)"
   ]
  },
  {
   "cell_type": "code",
   "execution_count": 25,
   "metadata": {},
   "outputs": [
    {
     "data": {
      "image/png": "[encoded data removed]",
      "text/plain": [
       "<Figure size 640x480 with 1 Axes>"
      ]
     },
     "metadata": {},
     "output_type": "display_data"
    }
   ],
   "source": [
    "scale = 10000\n",
    "fig = plt.figure(dpi=100)\n",
    "ax = fig.add_subplot(111)\n",
    "\n",
    "t = t[::scale]\n",
    "def init():\n",
    "    ax.clear()\n",
    "    ax.set_xlim(-0.45e9, 0.45e9)\n",
    "    ax.set_ylim(0, 0.45e9)\n",
    "\n",
    "def update(i):\n",
    "    init()\n",
    "    ax.plot(navex[::scale][:i], navey[::scale][:i], linestyle=\"dashed\")\n",
    "    ax.scatter(navex[::scale][i], navey[::scale][i], label = \"Nave\")\n",
    "    ax.plot(lunax[::scale][:i], lunay[::scale][:i], linestyle=\"dashed\")\n",
    "    ax.scatter(lunax[::scale][i], lunay[::scale][i], label = \"Luna\")\n",
    "    ax.legend()\n",
    "    ax.grid()\n",
    "\n",
    "Animation = anim.FuncAnimation(fig, update, frames=len(t), init_func=init)"
   ]
  },
  {
   "cell_type": "code",
   "execution_count": null,
   "metadata": {},
   "outputs": [],
   "source": []
  }
 ],
 "metadata": {
  "kernelspec": {
   "display_name": "base",
   "language": "python",
   "name": "python3"
  },
  "language_info": {
   "codemirror_mode": {
    "name": "ipython",
    "version": 3
   },
   "file_extension": ".py",
   "mimetype": "text/x-python",
   "name": "python",
   "nbconvert_exporter": "python",
   "pygments_lexer": "ipython3",
   "version": "3.8.8"
  }
 },
 "nbformat": 4,
 "nbformat_minor": 2
}
