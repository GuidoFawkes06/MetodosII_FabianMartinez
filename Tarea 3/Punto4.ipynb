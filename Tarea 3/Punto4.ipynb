{
 "cells": [
  {
   "cell_type": "markdown",
   "metadata": {},
   "source": [
    "Viaje a la luna: La NASA requiere dos estudiantes del curso de m´etodos\n",
    "computacionales para realizar una pasant´ıa en el departamento de objetos cercanos a\n",
    "la Tierra. Para elegir a los estudiantes se solicita una simulaci´on sencilla del problema\n",
    "de tres cuerpos de una nave que pueda fotografiar el lado oculto de la Luna. Yo sugerí a mis estudiantes del curso de M´etodos Computacionales II de la Universidad de los Andes como posibles candidatos; en quienes puedo depositar mi confianza."
   ]
  },
  {
   "cell_type": "code",
   "execution_count": null,
   "metadata": {},
   "outputs": [],
   "source": []
  }
 ],
 "metadata": {
  "language_info": {
   "name": "python"
  }
 },
 "nbformat": 4,
 "nbformat_minor": 2
}
